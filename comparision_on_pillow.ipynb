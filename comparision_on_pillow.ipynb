{
 "cells": [
  {
   "cell_type": "code",
   "execution_count": 1,
   "id": "reserved-plumbing",
   "metadata": {},
   "outputs": [],
   "source": [
    "from PIL import Image, ImageChops\n",
    "import glob, os"
   ]
  },
  {
   "cell_type": "code",
   "execution_count": 2,
   "id": "straight-muslim",
   "metadata": {},
   "outputs": [],
   "source": [
    "def getsubs(dir):\n",
    "    dirs = []\n",
    "    files = []\n",
    "    for dirname, dirnames, filenames in os.walk(dir):\n",
    "        dirs.append(dirname)\n",
    "        for subdirname in dirnames:\n",
    "            dirs.append(os.path.join(dirname, subdirname))\n",
    "        for filename in filenames:\n",
    "            (mode, ino, dev, nlink, uid, gid, size, atime, mtime, ctime) = os.stat(dirname + \"\\\\\" + filename)\n",
    "            files.append(os.path.join(dirname, filename))\n",
    "\n",
    "    return files"
   ]
  },
  {
   "cell_type": "code",
   "execution_count": 3,
   "id": "baking-cycle",
   "metadata": {},
   "outputs": [],
   "source": [
    "old_set = getsubs(r\"C:\\Users\\murataev\\Projects\\Streaming_image_comparison\\2020_2021\\2020\")"
   ]
  },
  {
   "cell_type": "code",
   "execution_count": 4,
   "id": "hawaiian-essex",
   "metadata": {},
   "outputs": [],
   "source": [
    "new_set = getsubs(r\"C:\\Users\\murataev\\Projects\\Streaming_image_comparison\\2020_2021\\2021\")"
   ]
  },
  {
   "cell_type": "code",
   "execution_count": 5,
   "id": "mexican-drawing",
   "metadata": {},
   "outputs": [
    {
     "data": {
      "text/plain": [
       "'A0101g.pgw'"
      ]
     },
     "execution_count": 5,
     "metadata": {},
     "output_type": "execute_result"
    }
   ],
   "source": [
    "old_set[0].split('\\\\')[-1]"
   ]
  },
  {
   "cell_type": "code",
   "execution_count": 6,
   "id": "north-target",
   "metadata": {},
   "outputs": [
    {
     "data": {
      "text/plain": [
       "True"
      ]
     },
     "execution_count": 6,
     "metadata": {},
     "output_type": "execute_result"
    }
   ],
   "source": [
    "len(new_set) == len(old_set)"
   ]
  },
  {
   "cell_type": "code",
   "execution_count": 7,
   "id": "continuous-tampa",
   "metadata": {},
   "outputs": [],
   "source": [
    "def clear_list(lst):\n",
    "    ny_lst = []\n",
    "    for i in lst:\n",
    "        if i.endswith('.png'):\n",
    "            ny_lst.append(i)\n",
    "    return(ny_lst)"
   ]
  },
  {
   "cell_type": "code",
   "execution_count": 8,
   "id": "resident-metallic",
   "metadata": {},
   "outputs": [],
   "source": [
    "n_old_set = clear_list(old_set)"
   ]
  },
  {
   "cell_type": "code",
   "execution_count": 9,
   "id": "developed-costume",
   "metadata": {},
   "outputs": [],
   "source": [
    "n_new_set = clear_list(new_set)"
   ]
  },
  {
   "cell_type": "code",
   "execution_count": 10,
   "id": "detailed-satisfaction",
   "metadata": {},
   "outputs": [],
   "source": [
    "for img  in range(len(n_old_set)):\n",
    "    im_old = Image.open(n_old_set[img])\n",
    "    im_new = Image.open(n_new_set[img])\n",
    "    compar = ImageChops.difference(im_old.convert('RGB'), im_new.convert('RGB'))\n",
    "    pth = r\"C:\\Users\\murataev\\Projects\\Streaming_image_comparison\\result\\{}\".format(n_new_set[img].split('\\\\')[-1])\n",
    "    compar.save(pth,\"PNG\")"
   ]
  },
  {
   "cell_type": "code",
   "execution_count": null,
   "id": "harmful-growing",
   "metadata": {},
   "outputs": [],
   "source": []
  }
 ],
 "metadata": {
  "kernelspec": {
   "display_name": "Python 3",
   "language": "python",
   "name": "python3"
  },
  "language_info": {
   "codemirror_mode": {
    "name": "ipython",
    "version": 3
   },
   "file_extension": ".py",
   "mimetype": "text/x-python",
   "name": "python",
   "nbconvert_exporter": "python",
   "pygments_lexer": "ipython3",
   "version": "3.7.10"
  }
 },
 "nbformat": 4,
 "nbformat_minor": 5
}
